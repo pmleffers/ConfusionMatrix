{
 "cells": [
  {
   "cell_type": "code",
   "execution_count": 52,
   "metadata": {},
   "outputs": [],
   "source": [
    "from numpy.random import randn\n",
    "import numpy as np\n",
    "import pandas as pd\n",
    "import matplotlib.pyplot as plt\n",
    "import seaborn as sns\n",
    "import random \n",
    "#from pandas.core import datetools\n",
    "import seaborn as sns\n",
    "from IPython.display import display, Math, Latex\n",
    "#from numpy.random import randn\n",
    "%matplotlib inline"
   ]
  },
  {
   "cell_type": "code",
   "execution_count": 53,
   "metadata": {},
   "outputs": [],
   "source": [
    "#https://en.wikipedia.org/wiki/Confusion_matrix"
   ]
  },
  {
   "cell_type": "code",
   "execution_count": 54,
   "metadata": {},
   "outputs": [],
   "source": [
    "Actual_Cat=[5,3,0]\n",
    "Actual_Dog=[2,3,1]\n",
    "Actual_Rabbit=[0,2,11]\n",
    "Predicted_Cat=[5,2,0]\n",
    "Predicted_Dog=[3,3,2]\n",
    "Predicted_Rabbit=[0,1,11]"
   ]
  },
  {
   "cell_type": "code",
   "execution_count": 55,
   "metadata": {},
   "outputs": [],
   "source": [
    "Wiki_Example_1=pd.DataFrame(np.array([5,2,0,3,3,2,0,1,11]).reshape(3,3),index=[['Predicted','Predicted','Predicted'],['Cat','Dog','Rabbit']],columns=[['Actual','Actual','Actual'],['Cat','Dog','Rabbit']])"
   ]
  },
  {
   "cell_type": "code",
   "execution_count": 56,
   "metadata": {},
   "outputs": [
    {
     "data": {
      "text/html": [
       "<div>\n",
       "<style scoped>\n",
       "    .dataframe tbody tr th:only-of-type {\n",
       "        vertical-align: middle;\n",
       "    }\n",
       "\n",
       "    .dataframe tbody tr th {\n",
       "        vertical-align: top;\n",
       "    }\n",
       "\n",
       "    .dataframe thead tr th {\n",
       "        text-align: left;\n",
       "    }\n",
       "</style>\n",
       "<table border=\"1\" class=\"dataframe\">\n",
       "  <thead>\n",
       "    <tr>\n",
       "      <th></th>\n",
       "      <th></th>\n",
       "      <th colspan=\"3\" halign=\"left\">Actual</th>\n",
       "    </tr>\n",
       "    <tr>\n",
       "      <th></th>\n",
       "      <th></th>\n",
       "      <th>Cat</th>\n",
       "      <th>Dog</th>\n",
       "      <th>Rabbit</th>\n",
       "    </tr>\n",
       "  </thead>\n",
       "  <tbody>\n",
       "    <tr>\n",
       "      <th rowspan=\"3\" valign=\"top\">Predicted</th>\n",
       "      <th>Cat</th>\n",
       "      <td>5</td>\n",
       "      <td>2</td>\n",
       "      <td>0</td>\n",
       "    </tr>\n",
       "    <tr>\n",
       "      <th>Dog</th>\n",
       "      <td>3</td>\n",
       "      <td>3</td>\n",
       "      <td>2</td>\n",
       "    </tr>\n",
       "    <tr>\n",
       "      <th>Rabbit</th>\n",
       "      <td>0</td>\n",
       "      <td>1</td>\n",
       "      <td>11</td>\n",
       "    </tr>\n",
       "  </tbody>\n",
       "</table>\n",
       "</div>"
      ],
      "text/plain": [
       "                 Actual           \n",
       "                    Cat Dog Rabbit\n",
       "Predicted Cat         5   2      0\n",
       "          Dog         3   3      2\n",
       "          Rabbit      0   1     11"
      ]
     },
     "execution_count": 56,
     "metadata": {},
     "output_type": "execute_result"
    }
   ],
   "source": [
    "Wiki_Example_1"
   ]
  },
  {
   "cell_type": "code",
   "execution_count": 57,
   "metadata": {},
   "outputs": [
    {
     "data": {
      "text/html": [
       "<div>\n",
       "<style scoped>\n",
       "    .dataframe tbody tr th:only-of-type {\n",
       "        vertical-align: middle;\n",
       "    }\n",
       "\n",
       "    .dataframe tbody tr th {\n",
       "        vertical-align: top;\n",
       "    }\n",
       "\n",
       "    .dataframe thead th {\n",
       "        text-align: right;\n",
       "    }\n",
       "</style>\n",
       "<table border=\"1\" class=\"dataframe\">\n",
       "  <thead>\n",
       "    <tr style=\"text-align: right;\">\n",
       "      <th></th>\n",
       "      <th>Actual_Cat</th>\n",
       "      <th>Actual_Dog</th>\n",
       "      <th>Actual_Rabbit</th>\n",
       "      <th>Predicted_Cat</th>\n",
       "      <th>Predicted_Dog</th>\n",
       "      <th>Predicted_Rabbit</th>\n",
       "    </tr>\n",
       "  </thead>\n",
       "  <tbody>\n",
       "    <tr>\n",
       "      <th>0</th>\n",
       "      <td>5</td>\n",
       "      <td>2</td>\n",
       "      <td>0</td>\n",
       "      <td>5</td>\n",
       "      <td>3</td>\n",
       "      <td>0</td>\n",
       "    </tr>\n",
       "    <tr>\n",
       "      <th>1</th>\n",
       "      <td>3</td>\n",
       "      <td>3</td>\n",
       "      <td>2</td>\n",
       "      <td>2</td>\n",
       "      <td>3</td>\n",
       "      <td>1</td>\n",
       "    </tr>\n",
       "    <tr>\n",
       "      <th>2</th>\n",
       "      <td>0</td>\n",
       "      <td>1</td>\n",
       "      <td>11</td>\n",
       "      <td>0</td>\n",
       "      <td>2</td>\n",
       "      <td>11</td>\n",
       "    </tr>\n",
       "  </tbody>\n",
       "</table>\n",
       "</div>"
      ],
      "text/plain": [
       "   Actual_Cat  Actual_Dog  Actual_Rabbit  Predicted_Cat  Predicted_Dog  \\\n",
       "0           5           2              0              5              3   \n",
       "1           3           3              2              2              3   \n",
       "2           0           1             11              0              2   \n",
       "\n",
       "   Predicted_Rabbit  \n",
       "0                 0  \n",
       "1                 1  \n",
       "2                11  "
      ]
     },
     "execution_count": 57,
     "metadata": {},
     "output_type": "execute_result"
    }
   ],
   "source": [
    "pd.DataFrame({'Actual_Cat':Actual_Cat,'Actual_Dog':Actual_Dog,'Actual_Rabbit':Actual_Rabbit,'Predicted_Cat':Predicted_Cat,'Predicted_Dog':Predicted_Dog,'Predicted_Rabbit':Predicted_Rabbit })"
   ]
  },
  {
   "cell_type": "code",
   "execution_count": 58,
   "metadata": {},
   "outputs": [],
   "source": [
    "Wiki_Example_2=pd.DataFrame(np.array(['5 True Positive','2 False Positives','3 False Negatives','17 True Negatives']).reshape(2,2),index=[['Actual','Actual'],['Cat','Non-Cat']],columns=[['Predicted','Predicted'],['Cat','Non-Cat']])"
   ]
  },
  {
   "cell_type": "code",
   "execution_count": 59,
   "metadata": {},
   "outputs": [
    {
     "data": {
      "text/html": [
       "<div>\n",
       "<style scoped>\n",
       "    .dataframe tbody tr th:only-of-type {\n",
       "        vertical-align: middle;\n",
       "    }\n",
       "\n",
       "    .dataframe tbody tr th {\n",
       "        vertical-align: top;\n",
       "    }\n",
       "\n",
       "    .dataframe thead tr th {\n",
       "        text-align: left;\n",
       "    }\n",
       "</style>\n",
       "<table border=\"1\" class=\"dataframe\">\n",
       "  <thead>\n",
       "    <tr>\n",
       "      <th></th>\n",
       "      <th></th>\n",
       "      <th colspan=\"2\" halign=\"left\">Predicted</th>\n",
       "    </tr>\n",
       "    <tr>\n",
       "      <th></th>\n",
       "      <th></th>\n",
       "      <th>Cat</th>\n",
       "      <th>Non-Cat</th>\n",
       "    </tr>\n",
       "  </thead>\n",
       "  <tbody>\n",
       "    <tr>\n",
       "      <th rowspan=\"2\" valign=\"top\">Actual</th>\n",
       "      <th>Cat</th>\n",
       "      <td>5 True Positive</td>\n",
       "      <td>2 False Positives</td>\n",
       "    </tr>\n",
       "    <tr>\n",
       "      <th>Non-Cat</th>\n",
       "      <td>3 False Negatives</td>\n",
       "      <td>17 True Negatives</td>\n",
       "    </tr>\n",
       "  </tbody>\n",
       "</table>\n",
       "</div>"
      ],
      "text/plain": [
       "                        Predicted                   \n",
       "                              Cat            Non-Cat\n",
       "Actual Cat        5 True Positive  2 False Positives\n",
       "       Non-Cat  3 False Negatives  17 True Negatives"
      ]
     },
     "execution_count": 59,
     "metadata": {},
     "output_type": "execute_result"
    }
   ],
   "source": [
    "Wiki_Example_2"
   ]
  },
  {
   "cell_type": "code",
   "execution_count": 60,
   "metadata": {},
   "outputs": [],
   "source": [
    "Wiki_Example_2=pd.DataFrame(np.array([5,2,3,17]).reshape(2,2),index=[['Actual','Actual'],['Cat','Non-Cat']],columns=[['Predicted','Predicted'],['Cat','Non-Cat']])"
   ]
  },
  {
   "cell_type": "code",
   "execution_count": 61,
   "metadata": {},
   "outputs": [
    {
     "data": {
      "text/html": [
       "<div>\n",
       "<style scoped>\n",
       "    .dataframe tbody tr th:only-of-type {\n",
       "        vertical-align: middle;\n",
       "    }\n",
       "\n",
       "    .dataframe tbody tr th {\n",
       "        vertical-align: top;\n",
       "    }\n",
       "\n",
       "    .dataframe thead tr th {\n",
       "        text-align: left;\n",
       "    }\n",
       "</style>\n",
       "<table border=\"1\" class=\"dataframe\">\n",
       "  <thead>\n",
       "    <tr>\n",
       "      <th></th>\n",
       "      <th></th>\n",
       "      <th colspan=\"2\" halign=\"left\">Predicted</th>\n",
       "    </tr>\n",
       "    <tr>\n",
       "      <th></th>\n",
       "      <th></th>\n",
       "      <th>Cat</th>\n",
       "      <th>Non-Cat</th>\n",
       "    </tr>\n",
       "  </thead>\n",
       "  <tbody>\n",
       "    <tr>\n",
       "      <th rowspan=\"2\" valign=\"top\">Actual</th>\n",
       "      <th>Cat</th>\n",
       "      <td>5</td>\n",
       "      <td>2</td>\n",
       "    </tr>\n",
       "    <tr>\n",
       "      <th>Non-Cat</th>\n",
       "      <td>3</td>\n",
       "      <td>17</td>\n",
       "    </tr>\n",
       "  </tbody>\n",
       "</table>\n",
       "</div>"
      ],
      "text/plain": [
       "               Predicted        \n",
       "                     Cat Non-Cat\n",
       "Actual Cat             5       2\n",
       "       Non-Cat         3      17"
      ]
     },
     "execution_count": 61,
     "metadata": {},
     "output_type": "execute_result"
    }
   ],
   "source": [
    "Wiki_Example_2"
   ]
  },
  {
   "cell_type": "code",
   "execution_count": 62,
   "metadata": {},
   "outputs": [],
   "source": [
    "Wiki_Example_3=Wiki_Example_2"
   ]
  },
  {
   "cell_type": "code",
   "execution_count": 63,
   "metadata": {},
   "outputs": [
    {
     "data": {
      "text/html": [
       "<div>\n",
       "<style scoped>\n",
       "    .dataframe tbody tr th:only-of-type {\n",
       "        vertical-align: middle;\n",
       "    }\n",
       "\n",
       "    .dataframe tbody tr th {\n",
       "        vertical-align: top;\n",
       "    }\n",
       "\n",
       "    .dataframe thead tr th {\n",
       "        text-align: left;\n",
       "    }\n",
       "</style>\n",
       "<table border=\"1\" class=\"dataframe\">\n",
       "  <thead>\n",
       "    <tr>\n",
       "      <th></th>\n",
       "      <th></th>\n",
       "      <th colspan=\"2\" halign=\"left\">Predicted</th>\n",
       "    </tr>\n",
       "    <tr>\n",
       "      <th></th>\n",
       "      <th></th>\n",
       "      <th>Cat</th>\n",
       "      <th>Non-Cat</th>\n",
       "    </tr>\n",
       "  </thead>\n",
       "  <tbody>\n",
       "    <tr>\n",
       "      <th rowspan=\"2\" valign=\"top\">Actual</th>\n",
       "      <th>Cat</th>\n",
       "      <td>5</td>\n",
       "      <td>2</td>\n",
       "    </tr>\n",
       "    <tr>\n",
       "      <th>Non-Cat</th>\n",
       "      <td>3</td>\n",
       "      <td>17</td>\n",
       "    </tr>\n",
       "  </tbody>\n",
       "</table>\n",
       "</div>"
      ],
      "text/plain": [
       "               Predicted        \n",
       "                     Cat Non-Cat\n",
       "Actual Cat             5       2\n",
       "       Non-Cat         3      17"
      ]
     },
     "execution_count": 63,
     "metadata": {},
     "output_type": "execute_result"
    }
   ],
   "source": [
    "Wiki_Example_3"
   ]
  },
  {
   "cell_type": "code",
   "execution_count": 64,
   "metadata": {},
   "outputs": [],
   "source": [
    "Conf_Matrix=['True Positive, Power','False Positive, Type 1 Error','False Negative=Type 2 Error','True Negative']"
   ]
  },
  {
   "cell_type": "code",
   "execution_count": 65,
   "metadata": {},
   "outputs": [],
   "source": [
    "Wiki_Example_2=pd.DataFrame(np.array(Conf_Matrix).reshape(2,2),index=[['Predicted Condition','Predicted Condition'],['Predicted Positive','Predicted Negative']],columns=[['True Condition','True Condition'],['Condition Positive','Condition Negative']])"
   ]
  },
  {
   "cell_type": "code",
   "execution_count": 66,
   "metadata": {},
   "outputs": [
    {
     "data": {
      "text/html": [
       "<div>\n",
       "<style scoped>\n",
       "    .dataframe tbody tr th:only-of-type {\n",
       "        vertical-align: middle;\n",
       "    }\n",
       "\n",
       "    .dataframe tbody tr th {\n",
       "        vertical-align: top;\n",
       "    }\n",
       "\n",
       "    .dataframe thead tr th {\n",
       "        text-align: left;\n",
       "    }\n",
       "</style>\n",
       "<table border=\"1\" class=\"dataframe\">\n",
       "  <thead>\n",
       "    <tr>\n",
       "      <th></th>\n",
       "      <th></th>\n",
       "      <th colspan=\"2\" halign=\"left\">True Condition</th>\n",
       "    </tr>\n",
       "    <tr>\n",
       "      <th></th>\n",
       "      <th></th>\n",
       "      <th>Condition Positive</th>\n",
       "      <th>Condition Negative</th>\n",
       "    </tr>\n",
       "  </thead>\n",
       "  <tbody>\n",
       "    <tr>\n",
       "      <th rowspan=\"2\" valign=\"top\">Predicted Condition</th>\n",
       "      <th>Predicted Positive</th>\n",
       "      <td>True Positive, Power</td>\n",
       "      <td>False Positive, Type 1 Error</td>\n",
       "    </tr>\n",
       "    <tr>\n",
       "      <th>Predicted Negative</th>\n",
       "      <td>False Negative=Type 2 Error</td>\n",
       "      <td>True Negative</td>\n",
       "    </tr>\n",
       "  </tbody>\n",
       "</table>\n",
       "</div>"
      ],
      "text/plain": [
       "                                                     True Condition  \\\n",
       "                                                 Condition Positive   \n",
       "Predicted Condition Predicted Positive         True Positive, Power   \n",
       "                    Predicted Negative  False Negative=Type 2 Error   \n",
       "\n",
       "                                                                      \n",
       "                                                  Condition Negative  \n",
       "Predicted Condition Predicted Positive  False Positive, Type 1 Error  \n",
       "                    Predicted Negative                 True Negative  "
      ]
     },
     "execution_count": 66,
     "metadata": {},
     "output_type": "execute_result"
    }
   ],
   "source": [
    "Wiki_Example_2"
   ]
  },
  {
   "cell_type": "code",
   "execution_count": 67,
   "metadata": {},
   "outputs": [],
   "source": [
    "Wiki_Example_3=pd.DataFrame(np.array([5,2,7,\n",
    "                                      3,17,20,\n",
    "                                     8,19,27]).reshape(3,3),index=[['Actual','Actual','Actual'],['Cat','Non-Cat','Total']],columns=[['Predicted','Predicted','Predicted'],['Cat','Non-Cat','Total']])"
   ]
  },
  {
   "cell_type": "code",
   "execution_count": 68,
   "metadata": {},
   "outputs": [
    {
     "data": {
      "text/html": [
       "<div>\n",
       "<style scoped>\n",
       "    .dataframe tbody tr th:only-of-type {\n",
       "        vertical-align: middle;\n",
       "    }\n",
       "\n",
       "    .dataframe tbody tr th {\n",
       "        vertical-align: top;\n",
       "    }\n",
       "\n",
       "    .dataframe thead tr th {\n",
       "        text-align: left;\n",
       "    }\n",
       "</style>\n",
       "<table border=\"1\" class=\"dataframe\">\n",
       "  <thead>\n",
       "    <tr>\n",
       "      <th></th>\n",
       "      <th></th>\n",
       "      <th colspan=\"3\" halign=\"left\">Predicted</th>\n",
       "    </tr>\n",
       "    <tr>\n",
       "      <th></th>\n",
       "      <th></th>\n",
       "      <th>Cat</th>\n",
       "      <th>Non-Cat</th>\n",
       "      <th>Total</th>\n",
       "    </tr>\n",
       "  </thead>\n",
       "  <tbody>\n",
       "    <tr>\n",
       "      <th rowspan=\"3\" valign=\"top\">Actual</th>\n",
       "      <th>Cat</th>\n",
       "      <td>5</td>\n",
       "      <td>2</td>\n",
       "      <td>7</td>\n",
       "    </tr>\n",
       "    <tr>\n",
       "      <th>Non-Cat</th>\n",
       "      <td>3</td>\n",
       "      <td>17</td>\n",
       "      <td>20</td>\n",
       "    </tr>\n",
       "    <tr>\n",
       "      <th>Total</th>\n",
       "      <td>8</td>\n",
       "      <td>19</td>\n",
       "      <td>27</td>\n",
       "    </tr>\n",
       "  </tbody>\n",
       "</table>\n",
       "</div>"
      ],
      "text/plain": [
       "               Predicted              \n",
       "                     Cat Non-Cat Total\n",
       "Actual Cat             5       2     7\n",
       "       Non-Cat         3      17    20\n",
       "       Total           8      19    27"
      ]
     },
     "execution_count": 68,
     "metadata": {},
     "output_type": "execute_result"
    }
   ],
   "source": [
    "Wiki_Example_3"
   ]
  },
  {
   "cell_type": "markdown",
   "metadata": {},
   "source": [
    "_______________________________"
   ]
  },
  {
   "cell_type": "markdown",
   "metadata": {},
   "source": [
    "**condition positive (P)**\n",
    "\n",
    "    the number of real positive cases in the data\n",
    "    \n",
    "**condition negative (N)**\n",
    "\n",
    "    the number of real negative cases in the data\n",
    "\n",
    "**true positive (TP)**\n",
    "\n",
    "    eqv. with hit\n",
    "    \n",
    "**true negative (TN)**\n",
    "\n",
    "    eqv. with correct rejection\n",
    "    \n",
    "**false positive (FP)**\n",
    "\n",
    "    eqv. with false alarm, Type I error\n",
    "    \n",
    "**false negative (FN)**\n",
    "\n",
    "    eqv. with miss, Type II error"
   ]
  },
  {
   "cell_type": "markdown",
   "metadata": {},
   "source": [
    "**Sensitivity, recall, hit rate, or true positive rate (TPR)**"
   ]
  },
  {
   "cell_type": "code",
   "execution_count": 69,
   "metadata": {},
   "outputs": [
    {
     "data": {
      "text/latex": [
       "$$TPR = \\frac{TP}    {TP+FN}=\\frac{TP}    {P}=1-FNR_{False Negative Rate} $$"
      ],
      "text/plain": [
       "<IPython.core.display.Math object>"
      ]
     },
     "execution_count": 69,
     "metadata": {},
     "output_type": "execute_result"
    }
   ],
   "source": [
    "Math(r'TPR = \\frac{TP}    {TP+FN}=\\frac{TP}    {P}=1-FNR_{False Negative Rate} ')"
   ]
  },
  {
   "cell_type": "markdown",
   "metadata": {},
   "source": [
    "**Specificity, selectivity or true negative rate (TNR)**"
   ]
  },
  {
   "cell_type": "code",
   "execution_count": 70,
   "metadata": {},
   "outputs": [
    {
     "data": {
      "text/latex": [
       "$$TNR = \\frac{TN}    {N}=\\frac{TN}    {TN+FP}=1-FNR_{False Positive Rate} $$"
      ],
      "text/plain": [
       "<IPython.core.display.Math object>"
      ]
     },
     "execution_count": 70,
     "metadata": {},
     "output_type": "execute_result"
    }
   ],
   "source": [
    "Math(r'TNR = \\frac{TN}    {N}=\\frac{TN}    {TN+FP}=1-FNR_{False Positive Rate} ')"
   ]
  },
  {
   "cell_type": "markdown",
   "metadata": {},
   "source": [
    "**Precision or positive predictive value (PPV)**"
   ]
  },
  {
   "cell_type": "code",
   "execution_count": 71,
   "metadata": {},
   "outputs": [
    {
     "data": {
      "text/latex": [
       "$$PPV = \\frac{TP}    {TP+FP}$$"
      ],
      "text/plain": [
       "<IPython.core.display.Math object>"
      ]
     },
     "execution_count": 71,
     "metadata": {},
     "output_type": "execute_result"
    }
   ],
   "source": [
    "Math(r'PPV = \\frac{TP}    {TP+FP}')"
   ]
  },
  {
   "cell_type": "markdown",
   "metadata": {},
   "source": [
    "**Negative predictive value (NPV)**"
   ]
  },
  {
   "cell_type": "code",
   "execution_count": 72,
   "metadata": {},
   "outputs": [
    {
     "data": {
      "text/latex": [
       "$$NPV = \\frac{TN}    {TN+FN}$$"
      ],
      "text/plain": [
       "<IPython.core.display.Math object>"
      ]
     },
     "execution_count": 72,
     "metadata": {},
     "output_type": "execute_result"
    }
   ],
   "source": [
    "Math(r'NPV = \\frac{TN}    {TN+FN}')"
   ]
  },
  {
   "cell_type": "markdown",
   "metadata": {},
   "source": [
    "**Miss rate or false negative rate (FNR)**"
   ]
  },
  {
   "cell_type": "code",
   "execution_count": 73,
   "metadata": {},
   "outputs": [
    {
     "data": {
      "text/latex": [
       "$$FNR = \\frac{FN}    {P}=\\frac{FN}    {FN+TP}=1-FPR_{False Positive Rate} $$"
      ],
      "text/plain": [
       "<IPython.core.display.Math object>"
      ]
     },
     "execution_count": 73,
     "metadata": {},
     "output_type": "execute_result"
    }
   ],
   "source": [
    "Math(r'FNR = \\frac{FN}    {P}=\\frac{FN}    {FN+TP}=1-FPR_{False Positive Rate} ')"
   ]
  },
  {
   "cell_type": "markdown",
   "metadata": {},
   "source": [
    "**Fall-out or false positive rate (FPR)**"
   ]
  },
  {
   "cell_type": "code",
   "execution_count": 74,
   "metadata": {},
   "outputs": [
    {
     "data": {
      "text/latex": [
       "$$FPR = \\frac{FP}    {N}=\\frac{FP}    {FP+TN}=1-TNR$$"
      ],
      "text/plain": [
       "<IPython.core.display.Math object>"
      ]
     },
     "execution_count": 74,
     "metadata": {},
     "output_type": "execute_result"
    }
   ],
   "source": [
    "Math(r'FPR = \\frac{FP}    {N}=\\frac{FP}    {FP+TN}=1-TNR')"
   ]
  },
  {
   "cell_type": "markdown",
   "metadata": {},
   "source": [
    "**False discovery rate (FDR)**"
   ]
  },
  {
   "cell_type": "code",
   "execution_count": 75,
   "metadata": {},
   "outputs": [
    {
     "data": {
      "text/latex": [
       "$$FDR = \\frac{FP}    {FP+TP}=1-PPV_{+}$$"
      ],
      "text/plain": [
       "<IPython.core.display.Math object>"
      ]
     },
     "execution_count": 75,
     "metadata": {},
     "output_type": "execute_result"
    }
   ],
   "source": [
    "Math(r'FDR = \\frac{FP}    {FP+TP}=1-PPV_{+}')"
   ]
  },
  {
   "cell_type": "markdown",
   "metadata": {},
   "source": [
    "**False omission rate (FOR)**"
   ]
  },
  {
   "cell_type": "code",
   "execution_count": 76,
   "metadata": {},
   "outputs": [
    {
     "data": {
      "text/latex": [
       "$$FOR = \\frac{FN}    {FN+TN}=1-NPV_{-}$$"
      ],
      "text/plain": [
       "<IPython.core.display.Math object>"
      ]
     },
     "execution_count": 76,
     "metadata": {},
     "output_type": "execute_result"
    }
   ],
   "source": [
    "Math(r'FOR = \\frac{FN}    {FN+TN}=1-NPV_{-}')"
   ]
  },
  {
   "cell_type": "markdown",
   "metadata": {},
   "source": [
    "**Accuracy (ACC)**"
   ]
  },
  {
   "cell_type": "code",
   "execution_count": 77,
   "metadata": {},
   "outputs": [
    {
     "data": {
      "text/latex": [
       "$$ACC = \\frac{TP+TN}    {P+N}=\\frac{TP+TM}    {TP+TN+FP+FN} $$"
      ],
      "text/plain": [
       "<IPython.core.display.Math object>"
      ]
     },
     "execution_count": 77,
     "metadata": {},
     "output_type": "execute_result"
    }
   ],
   "source": [
    "Math(r'ACC = \\frac{TP+TN}    {P+N}=\\frac{TP+TM}    {TP+TN+FP+FN} ')"
   ]
  },
  {
   "cell_type": "markdown",
   "metadata": {},
   "source": [
    "**F1 Score**\n",
    "- is the harmonic mean of precision and sensitivity"
   ]
  },
  {
   "cell_type": "code",
   "execution_count": 78,
   "metadata": {},
   "outputs": [
    {
     "data": {
      "text/latex": [
       "$$F_{1} = 2*\\frac{PPV*TPR}    {PPV+TPR}=\\frac{2TP}    {2TP+FP+FN} $$"
      ],
      "text/plain": [
       "<IPython.core.display.Math object>"
      ]
     },
     "execution_count": 78,
     "metadata": {},
     "output_type": "execute_result"
    }
   ],
   "source": [
    "Math(r'F_{1} = 2*\\frac{PPV*TPR}    {PPV+TPR}=\\frac{2TP}    {2TP+FP+FN} ')"
   ]
  },
  {
   "cell_type": "markdown",
   "metadata": {},
   "source": [
    "**Matthews correlation coefficient (MCC)**"
   ]
  },
  {
   "cell_type": "code",
   "execution_count": 79,
   "metadata": {},
   "outputs": [
    {
     "data": {
      "text/latex": [
       "$$MCC = \\frac{TP*TN-FP*FN}    {\\sqrt{(TP+FP)(TP+FN)(TN+FP)(TN+FN))}} $$"
      ],
      "text/plain": [
       "<IPython.core.display.Math object>"
      ]
     },
     "execution_count": 79,
     "metadata": {},
     "output_type": "execute_result"
    }
   ],
   "source": [
    "Math(r'MCC = \\frac{TP*TN-FP*FN}    {\\sqrt{(TP+FP)(TP+FN)(TN+FP)(TN+FN))}} ')"
   ]
  },
  {
   "cell_type": "markdown",
   "metadata": {},
   "source": [
    "**Informedness or Bookmaker Informedness (BM)**"
   ]
  },
  {
   "cell_type": "code",
   "execution_count": 80,
   "metadata": {},
   "outputs": [
    {
     "data": {
      "text/latex": [
       "$$BM = TPR+TNR-1$$"
      ],
      "text/plain": [
       "<IPython.core.display.Math object>"
      ]
     },
     "execution_count": 80,
     "metadata": {},
     "output_type": "execute_result"
    }
   ],
   "source": [
    "Math(r'BM = TPR+TNR-1')"
   ]
  },
  {
   "cell_type": "markdown",
   "metadata": {},
   "source": [
    "**Markedness (MK)**"
   ]
  },
  {
   "cell_type": "code",
   "execution_count": 81,
   "metadata": {},
   "outputs": [
    {
     "data": {
      "text/latex": [
       "$$MK = PPV+NPV-1$$"
      ],
      "text/plain": [
       "<IPython.core.display.Math object>"
      ]
     },
     "execution_count": 81,
     "metadata": {},
     "output_type": "execute_result"
    }
   ],
   "source": [
    "Math(r'MK = PPV+NPV-1')"
   ]
  },
  {
   "cell_type": "markdown",
   "metadata": {},
   "source": [
    "________________________"
   ]
  },
  {
   "cell_type": "code",
   "execution_count": 82,
   "metadata": {},
   "outputs": [
    {
     "data": {
      "text/html": [
       "<div>\n",
       "<style scoped>\n",
       "    .dataframe tbody tr th:only-of-type {\n",
       "        vertical-align: middle;\n",
       "    }\n",
       "\n",
       "    .dataframe tbody tr th {\n",
       "        vertical-align: top;\n",
       "    }\n",
       "\n",
       "    .dataframe thead tr th {\n",
       "        text-align: left;\n",
       "    }\n",
       "</style>\n",
       "<table border=\"1\" class=\"dataframe\">\n",
       "  <thead>\n",
       "    <tr>\n",
       "      <th></th>\n",
       "      <th></th>\n",
       "      <th colspan=\"3\" halign=\"left\">Predicted</th>\n",
       "    </tr>\n",
       "    <tr>\n",
       "      <th></th>\n",
       "      <th></th>\n",
       "      <th>Cat</th>\n",
       "      <th>Non-Cat</th>\n",
       "      <th>Total</th>\n",
       "    </tr>\n",
       "  </thead>\n",
       "  <tbody>\n",
       "    <tr>\n",
       "      <th rowspan=\"3\" valign=\"top\">Actual</th>\n",
       "      <th>Cat</th>\n",
       "      <td>5</td>\n",
       "      <td>2</td>\n",
       "      <td>7</td>\n",
       "    </tr>\n",
       "    <tr>\n",
       "      <th>Non-Cat</th>\n",
       "      <td>3</td>\n",
       "      <td>17</td>\n",
       "      <td>20</td>\n",
       "    </tr>\n",
       "    <tr>\n",
       "      <th>Total</th>\n",
       "      <td>8</td>\n",
       "      <td>19</td>\n",
       "      <td>27</td>\n",
       "    </tr>\n",
       "  </tbody>\n",
       "</table>\n",
       "</div>"
      ],
      "text/plain": [
       "               Predicted              \n",
       "                     Cat Non-Cat Total\n",
       "Actual Cat             5       2     7\n",
       "       Non-Cat         3      17    20\n",
       "       Total           8      19    27"
      ]
     },
     "execution_count": 82,
     "metadata": {},
     "output_type": "execute_result"
    }
   ],
   "source": [
    "Wiki_Example_3"
   ]
  },
  {
   "cell_type": "markdown",
   "metadata": {},
   "source": [
    "Here I am creating random numbers to demonstrate a somewhat realistic example using random numbers.\n",
    "\n",
    "*Note: I restricted the predictions to be within the same range of values as the 'Actuals' to help demonstration purposes*"
   ]
  },
  {
   "cell_type": "code",
   "execution_count": 83,
   "metadata": {},
   "outputs": [],
   "source": [
    "Actual=pd.DataFrame(np.random.randint(5, size=(1, 100)).reshape(100,1),columns=['Actual'])\n",
    "Actual_Range=int((max(Actual['Actual'])+1)-min(Actual['Actual']))#Range of Actual data\n",
    "Prediction=pd.DataFrame(np.random.randint(Actual_Range, size=(1, 100)).reshape(100,1),columns=['Prediction'])\n",
    "Table=pd.DataFrame(Actual['Actual'])\n",
    "Table['Prediction']=Prediction\n",
    "#Table[:15]"
   ]
  },
  {
   "cell_type": "markdown",
   "metadata": {},
   "source": [
    "*'Predictions' that **match** 'Actual' observations* "
   ]
  },
  {
   "cell_type": "code",
   "execution_count": 84,
   "metadata": {},
   "outputs": [
    {
     "name": "stdout",
     "output_type": "stream",
     "text": [
      "Total Matches: 21\n"
     ]
    },
    {
     "data": {
      "text/html": [
       "<div>\n",
       "<style scoped>\n",
       "    .dataframe tbody tr th:only-of-type {\n",
       "        vertical-align: middle;\n",
       "    }\n",
       "\n",
       "    .dataframe tbody tr th {\n",
       "        vertical-align: top;\n",
       "    }\n",
       "\n",
       "    .dataframe thead th {\n",
       "        text-align: right;\n",
       "    }\n",
       "</style>\n",
       "<table border=\"1\" class=\"dataframe\">\n",
       "  <thead>\n",
       "    <tr style=\"text-align: right;\">\n",
       "      <th></th>\n",
       "      <th>Actual</th>\n",
       "      <th>Prediction</th>\n",
       "    </tr>\n",
       "  </thead>\n",
       "  <tbody>\n",
       "    <tr>\n",
       "      <th>3</th>\n",
       "      <td>3</td>\n",
       "      <td>3</td>\n",
       "    </tr>\n",
       "    <tr>\n",
       "      <th>9</th>\n",
       "      <td>0</td>\n",
       "      <td>0</td>\n",
       "    </tr>\n",
       "    <tr>\n",
       "      <th>16</th>\n",
       "      <td>0</td>\n",
       "      <td>0</td>\n",
       "    </tr>\n",
       "    <tr>\n",
       "      <th>18</th>\n",
       "      <td>4</td>\n",
       "      <td>4</td>\n",
       "    </tr>\n",
       "    <tr>\n",
       "      <th>24</th>\n",
       "      <td>3</td>\n",
       "      <td>3</td>\n",
       "    </tr>\n",
       "    <tr>\n",
       "      <th>26</th>\n",
       "      <td>3</td>\n",
       "      <td>3</td>\n",
       "    </tr>\n",
       "    <tr>\n",
       "      <th>41</th>\n",
       "      <td>1</td>\n",
       "      <td>1</td>\n",
       "    </tr>\n",
       "    <tr>\n",
       "      <th>50</th>\n",
       "      <td>2</td>\n",
       "      <td>2</td>\n",
       "    </tr>\n",
       "    <tr>\n",
       "      <th>53</th>\n",
       "      <td>1</td>\n",
       "      <td>1</td>\n",
       "    </tr>\n",
       "    <tr>\n",
       "      <th>56</th>\n",
       "      <td>3</td>\n",
       "      <td>3</td>\n",
       "    </tr>\n",
       "    <tr>\n",
       "      <th>60</th>\n",
       "      <td>2</td>\n",
       "      <td>2</td>\n",
       "    </tr>\n",
       "    <tr>\n",
       "      <th>63</th>\n",
       "      <td>0</td>\n",
       "      <td>0</td>\n",
       "    </tr>\n",
       "    <tr>\n",
       "      <th>66</th>\n",
       "      <td>2</td>\n",
       "      <td>2</td>\n",
       "    </tr>\n",
       "    <tr>\n",
       "      <th>67</th>\n",
       "      <td>1</td>\n",
       "      <td>1</td>\n",
       "    </tr>\n",
       "    <tr>\n",
       "      <th>69</th>\n",
       "      <td>0</td>\n",
       "      <td>0</td>\n",
       "    </tr>\n",
       "  </tbody>\n",
       "</table>\n",
       "</div>"
      ],
      "text/plain": [
       "    Actual  Prediction\n",
       "3        3           3\n",
       "9        0           0\n",
       "16       0           0\n",
       "18       4           4\n",
       "24       3           3\n",
       "26       3           3\n",
       "41       1           1\n",
       "50       2           2\n",
       "53       1           1\n",
       "56       3           3\n",
       "60       2           2\n",
       "63       0           0\n",
       "66       2           2\n",
       "67       1           1\n",
       "69       0           0"
      ]
     },
     "execution_count": 84,
     "metadata": {},
     "output_type": "execute_result"
    }
   ],
   "source": [
    "Matches=Table[Table['Actual']==Table['Prediction']]\n",
    "print('Total Matches: '+str(len(Matches['Prediction'])))\n",
    "\n",
    "Matches[:15]"
   ]
  },
  {
   "cell_type": "markdown",
   "metadata": {},
   "source": [
    "*'Predictions' that **Do Not** match 'Actual' observations*\n"
   ]
  },
  {
   "cell_type": "code",
   "execution_count": 85,
   "metadata": {},
   "outputs": [
    {
     "name": "stdout",
     "output_type": "stream",
     "text": [
      "Total Non-Matches: 79\n"
     ]
    },
    {
     "data": {
      "text/html": [
       "<div>\n",
       "<style scoped>\n",
       "    .dataframe tbody tr th:only-of-type {\n",
       "        vertical-align: middle;\n",
       "    }\n",
       "\n",
       "    .dataframe tbody tr th {\n",
       "        vertical-align: top;\n",
       "    }\n",
       "\n",
       "    .dataframe thead th {\n",
       "        text-align: right;\n",
       "    }\n",
       "</style>\n",
       "<table border=\"1\" class=\"dataframe\">\n",
       "  <thead>\n",
       "    <tr style=\"text-align: right;\">\n",
       "      <th></th>\n",
       "      <th>Actual</th>\n",
       "      <th>Prediction</th>\n",
       "    </tr>\n",
       "  </thead>\n",
       "  <tbody>\n",
       "    <tr>\n",
       "      <th>0</th>\n",
       "      <td>1</td>\n",
       "      <td>0</td>\n",
       "    </tr>\n",
       "    <tr>\n",
       "      <th>1</th>\n",
       "      <td>4</td>\n",
       "      <td>3</td>\n",
       "    </tr>\n",
       "    <tr>\n",
       "      <th>2</th>\n",
       "      <td>4</td>\n",
       "      <td>3</td>\n",
       "    </tr>\n",
       "    <tr>\n",
       "      <th>4</th>\n",
       "      <td>0</td>\n",
       "      <td>4</td>\n",
       "    </tr>\n",
       "    <tr>\n",
       "      <th>5</th>\n",
       "      <td>3</td>\n",
       "      <td>4</td>\n",
       "    </tr>\n",
       "    <tr>\n",
       "      <th>6</th>\n",
       "      <td>2</td>\n",
       "      <td>1</td>\n",
       "    </tr>\n",
       "    <tr>\n",
       "      <th>7</th>\n",
       "      <td>0</td>\n",
       "      <td>2</td>\n",
       "    </tr>\n",
       "    <tr>\n",
       "      <th>8</th>\n",
       "      <td>0</td>\n",
       "      <td>3</td>\n",
       "    </tr>\n",
       "    <tr>\n",
       "      <th>10</th>\n",
       "      <td>4</td>\n",
       "      <td>2</td>\n",
       "    </tr>\n",
       "    <tr>\n",
       "      <th>11</th>\n",
       "      <td>1</td>\n",
       "      <td>2</td>\n",
       "    </tr>\n",
       "    <tr>\n",
       "      <th>12</th>\n",
       "      <td>2</td>\n",
       "      <td>0</td>\n",
       "    </tr>\n",
       "    <tr>\n",
       "      <th>13</th>\n",
       "      <td>3</td>\n",
       "      <td>0</td>\n",
       "    </tr>\n",
       "    <tr>\n",
       "      <th>14</th>\n",
       "      <td>4</td>\n",
       "      <td>1</td>\n",
       "    </tr>\n",
       "    <tr>\n",
       "      <th>15</th>\n",
       "      <td>4</td>\n",
       "      <td>2</td>\n",
       "    </tr>\n",
       "    <tr>\n",
       "      <th>17</th>\n",
       "      <td>1</td>\n",
       "      <td>2</td>\n",
       "    </tr>\n",
       "  </tbody>\n",
       "</table>\n",
       "</div>"
      ],
      "text/plain": [
       "    Actual  Prediction\n",
       "0        1           0\n",
       "1        4           3\n",
       "2        4           3\n",
       "4        0           4\n",
       "5        3           4\n",
       "6        2           1\n",
       "7        0           2\n",
       "8        0           3\n",
       "10       4           2\n",
       "11       1           2\n",
       "12       2           0\n",
       "13       3           0\n",
       "14       4           1\n",
       "15       4           2\n",
       "17       1           2"
      ]
     },
     "execution_count": 85,
     "metadata": {},
     "output_type": "execute_result"
    }
   ],
   "source": [
    "NonMatches=Table[Table['Actual']!=Table['Prediction']]\n",
    "print('Total Non-Matches: '+str(len(NonMatches['Prediction'])))\n",
    "NonMatches[:15]"
   ]
  },
  {
   "cell_type": "markdown",
   "metadata": {},
   "source": [
    "Here I will select an *'Outcome of Interest'* as an example"
   ]
  },
  {
   "cell_type": "code",
   "execution_count": 86,
   "metadata": {},
   "outputs": [
    {
     "name": "stdout",
     "output_type": "stream",
     "text": [
      "Select the Outcome of Interest:  3\n",
      " \n",
      "Length of data:  100\n",
      "Total Observed Outcome of Interest in 'Actual': 18\n",
      "Total Observed Outcome of Interest in 'Predicted' cases: 20\n",
      " \n"
     ]
    }
   ],
   "source": [
    "Interest=random.choice(Actual['Actual'])\n",
    "totObsActual=len(Actual[Actual['Actual']==Interest])\n",
    "totObsPredict=len(Prediction[Prediction['Prediction']==Interest])\n",
    "print('Select the Outcome of Interest: ',Interest)\n",
    "print(' ')\n",
    "print('Length of data: ',len(Prediction))\n",
    "print(\"Total Observed Outcome of Interest in 'Actual': \" +str(totObsActual))\n",
    "print(\"Total Observed Outcome of Interest in 'Predicted' cases: \" +str(totObsPredict))\n",
    "print(' ')"
   ]
  },
  {
   "cell_type": "code",
   "execution_count": 87,
   "metadata": {},
   "outputs": [
    {
     "name": "stdout",
     "output_type": "stream",
     "text": [
      "True Positive:  4\n"
     ]
    }
   ],
   "source": [
    "True_Pos=int(len(Matches[Matches['Prediction']==Interest]))\n",
    "print('True Positive: ',True_Pos)"
   ]
  },
  {
   "cell_type": "code",
   "execution_count": 88,
   "metadata": {},
   "outputs": [
    {
     "name": "stdout",
     "output_type": "stream",
     "text": [
      "True Negative:  17\n"
     ]
    }
   ],
   "source": [
    "True_Neg=int(len(Matches[Matches['Prediction']!=Interest]))\n",
    "print('True Negative: ',True_Neg)"
   ]
  },
  {
   "cell_type": "code",
   "execution_count": 89,
   "metadata": {},
   "outputs": [
    {
     "name": "stdout",
     "output_type": "stream",
     "text": [
      "False Positive, Type I error: 16\n"
     ]
    }
   ],
   "source": [
    "False_Pos=int(len(NonMatches[NonMatches['Prediction']==Interest]))\n",
    "print('False Positive, Type I error:',False_Pos)"
   ]
  },
  {
   "cell_type": "code",
   "execution_count": 90,
   "metadata": {},
   "outputs": [
    {
     "name": "stdout",
     "output_type": "stream",
     "text": [
      "False Negative, Type II error: 63\n"
     ]
    }
   ],
   "source": [
    "False_Neg=int(len(NonMatches[NonMatches['Prediction']!=Interest]))\n",
    "print('False Negative, Type II error:',False_Neg)"
   ]
  },
  {
   "cell_type": "code",
   "execution_count": 91,
   "metadata": {},
   "outputs": [
    {
     "name": "stdout",
     "output_type": "stream",
     "text": [
      "Condition Positive:  67\n",
      "Condition Negative: 33\n",
      "Predicted Positive: 67\n",
      "Predicted Negative: 80\n"
     ]
    }
   ],
   "source": [
    "Cond_Pos=True_Pos+False_Neg\n",
    "Cond_Neg=False_Pos+True_Neg\n",
    "Pred_Pos=True_Pos+False_Neg\n",
    "Pred_Neg=False_Neg+True_Neg\n",
    "print('Condition Positive: ',Cond_Pos)\n",
    "print('Condition Negative:',Cond_Neg)\n",
    "print('Predicted Positive:',Pred_Pos)\n",
    "print('Predicted Negative:',Pred_Neg)"
   ]
  },
  {
   "cell_type": "code",
   "execution_count": 92,
   "metadata": {},
   "outputs": [
    {
     "data": {
      "text/html": [
       "<div>\n",
       "<style scoped>\n",
       "    .dataframe tbody tr th:only-of-type {\n",
       "        vertical-align: middle;\n",
       "    }\n",
       "\n",
       "    .dataframe tbody tr th {\n",
       "        vertical-align: top;\n",
       "    }\n",
       "\n",
       "    .dataframe thead tr th {\n",
       "        text-align: left;\n",
       "    }\n",
       "</style>\n",
       "<table border=\"1\" class=\"dataframe\">\n",
       "  <thead>\n",
       "    <tr>\n",
       "      <th></th>\n",
       "      <th></th>\n",
       "      <th colspan=\"3\" halign=\"left\">Actual</th>\n",
       "    </tr>\n",
       "    <tr>\n",
       "      <th></th>\n",
       "      <th></th>\n",
       "      <th>Cond. +</th>\n",
       "      <th>Cond. -</th>\n",
       "      <th>Total</th>\n",
       "    </tr>\n",
       "  </thead>\n",
       "  <tbody>\n",
       "    <tr>\n",
       "      <th rowspan=\"3\" valign=\"top\">Predicted</th>\n",
       "      <th>Cond. +</th>\n",
       "      <td>4</td>\n",
       "      <td>16</td>\n",
       "      <td>20</td>\n",
       "    </tr>\n",
       "    <tr>\n",
       "      <th>Cond. -</th>\n",
       "      <td>63</td>\n",
       "      <td>17</td>\n",
       "      <td>80</td>\n",
       "    </tr>\n",
       "    <tr>\n",
       "      <th>Total</th>\n",
       "      <td>67</td>\n",
       "      <td>33</td>\n",
       "      <td>100</td>\n",
       "    </tr>\n",
       "  </tbody>\n",
       "</table>\n",
       "</div>"
      ],
      "text/plain": [
       "                   Actual              \n",
       "                  Cond. + Cond. - Total\n",
       "Predicted Cond. +       4      16    20\n",
       "          Cond. -      63      17    80\n",
       "          Total        67      33   100"
      ]
     },
     "execution_count": 92,
     "metadata": {},
     "output_type": "execute_result"
    }
   ],
   "source": [
    "PredPos=True_Pos+False_Pos\n",
    "PredNeg=False_Neg+True_Neg\n",
    "ObsPos=True_Pos+False_Neg\n",
    "ObsNeg=False_Pos+True_Neg\n",
    "Total_Obs=True_Pos+False_Pos+False_Neg+True_Neg\n",
    "\n",
    "Confusion_Matrix=pd.DataFrame(np.array([True_Pos,False_Pos,PredPos,\n",
    "                       False_Neg,True_Neg,PredNeg,\n",
    "                       ObsPos,ObsNeg,Total_Obs]).reshape(3,3),\n",
    "             index=[['Predicted','Predicted','Predicted'],['Cond. +','Cond. -','Total']],\n",
    "             columns=[['Actual','Actual','Actual'],['Cond. +','Cond. -','Total']])\n",
    "\n",
    "Confusion_Matrix"
   ]
  },
  {
   "cell_type": "code",
   "execution_count": 93,
   "metadata": {},
   "outputs": [
    {
     "data": {
      "text/plain": [
       "21"
      ]
     },
     "execution_count": 93,
     "metadata": {},
     "output_type": "execute_result"
    }
   ],
   "source": [
    "True_Pos+True_Neg"
   ]
  },
  {
   "cell_type": "code",
   "execution_count": 94,
   "metadata": {},
   "outputs": [
    {
     "name": "stdout",
     "output_type": "stream",
     "text": [
      "True positive rate (TPR), Recall, Sensitivity, probability of detection:  0.05970149253731343\n",
      "False negative rate (FNR), Miss rate :  0.9402985074626866\n",
      "False positive rate (FPR), Fall-out, probability of false alarm:  0.48484848484848486\n",
      "Specificity (SPC), Selectivity, True negative rate (TNR):  0.5151515151515151\n",
      "Prevalence:  0.67\n",
      "Accuracy:  0.21\n",
      "Positive predictive value (PPV), Precision:  0.05970149253731343\n",
      "False discovery rate (FDR):  0.23880597014925373\n",
      "False omission rate (FOR):  0.7875\n",
      "Negative predictive value (NPV):  0.2125\n",
      "Positive likelihood ratio (LR+):  0.12313432835820895\n",
      "Negative likelihood ratio (LR−):  1.8252853380158034\n",
      "Diagnostic odds ratio (DOR):  0.06746031746031746\n",
      "F1 score:  0.03980099502487562\n"
     ]
    }
   ],
   "source": [
    "TPR=True_Pos/Cond_Pos\n",
    "FNR=False_Neg/Cond_Pos\n",
    "FPR=False_Pos/Cond_Neg\n",
    "TNR=True_Neg/Cond_Neg\n",
    "PREV=Cond_Pos/Total_Obs\n",
    "PPV=True_Pos/Pred_Pos\n",
    "FOR=False_Neg/Pred_Neg\n",
    "ACC=(True_Pos+True_Neg)/Total_Obs\n",
    "FDR=False_Pos/Pred_Pos\n",
    "NPV=True_Neg/Pred_Neg\n",
    "LR_Pos=TPR/FPR\n",
    "LR_Neg=FNR/TNR\n",
    "DOR=LR_Pos/LR_Neg\n",
    "F1_Score=1/((1/TPR)+(1/PPV)/2)\n",
    "\n",
    "print('True positive rate (TPR), Recall, Sensitivity, probability of detection: ',TPR)\n",
    "print('False negative rate (FNR), Miss rate : ',FNR)\n",
    "print('False positive rate (FPR), Fall-out, probability of false alarm: ',FPR)\n",
    "print('Specificity (SPC), Selectivity, True negative rate (TNR): ',TNR)\n",
    "print('Prevalence: ',PREV)\n",
    "print('Accuracy: ',ACC)\n",
    "print('Positive predictive value (PPV), Precision: ',PPV)\n",
    "print('False discovery rate (FDR): ',FDR)\n",
    "print('False omission rate (FOR): ',FOR)\n",
    "print('Negative predictive value (NPV): ',NPV)\n",
    "print('Positive likelihood ratio (LR+): ',LR_Pos)\n",
    "print('Negative likelihood ratio (LR−): ',LR_Neg)\n",
    "print('Diagnostic odds ratio (DOR): ',DOR)\n",
    "print('F1 score: ',F1_Score)"
   ]
  },
  {
   "cell_type": "markdown",
   "metadata": {},
   "source": [
    "_____"
   ]
  },
  {
   "cell_type": "code",
   "execution_count": 95,
   "metadata": {},
   "outputs": [],
   "source": [
    "def ConfusionMetrics(Actual,Prediction,NumInt):\n",
    "    Actual=np.array(Actual)\n",
    "    Prediction=np.array(Prediction)\n",
    "    Arr_Pair=np.array([Actual,Prediction])\n",
    "    print(\"Observation of interest 'Actual': \",sum(Arr_Pair[0]==NumInt))\n",
    "    print(\"Total Observed Outcome of Interest in 'Predicted' cases: \",sum(NumInt==Arr_Pair[1]))\n",
    "\n",
    "    Match_Bool=Arr_Pair[0]==Arr_Pair[1]\n",
    "    NonMatch_Bool=Arr_Pair[0]!=Arr_Pair[1]\n",
    "    Matches=Arr_Pair.transpose()[Match_Bool]\n",
    "    NonMatches=Arr_Pair.transpose()[NonMatch_Bool]\n",
    "\n",
    "    True_Pos=len(Matches[Matches.transpose()[1]==NumInt])\n",
    "    True_Neg=len(Matches[Matches.transpose()[1]!=NumInt])\n",
    "    False_Pos=len(NonMatches[NonMatches.transpose()[1]==NumInt])\n",
    "    False_Neg=len(NonMatches[NonMatches.transpose()[1]!=NumInt])\n",
    "\n",
    "    Cond_Pos=True_Pos+False_Neg\n",
    "    Cond_Neg=False_Pos+True_Neg\n",
    "    Pred_Pos=True_Pos+False_Neg\n",
    "    Pred_Neg=False_Neg+True_Neg\n",
    "    PredPos=True_Pos+False_Pos\n",
    "    PredNeg=False_Neg+True_Neg\n",
    "    ObsPos=True_Pos+False_Neg\n",
    "    ObsNeg=False_Pos+True_Neg\n",
    "    Total_Obs=True_Pos+False_Pos+False_Neg+True_Neg\n",
    "    TPR=True_Pos/Cond_Pos\n",
    "    FNR=False_Neg/Cond_Pos\n",
    "    FPR=False_Pos/Cond_Neg\n",
    "    TNR=True_Neg/Cond_Neg\n",
    "    PREV=Cond_Pos/Total_Obs\n",
    "    PPV=True_Pos/Pred_Pos\n",
    "    FOR=False_Neg/Pred_Neg\n",
    "    ACC=(True_Pos+True_Neg)/Total_Obs\n",
    "    FDR=False_Pos/Pred_Pos\n",
    "    NPV=True_Neg/Pred_Neg\n",
    "    LR_Pos=TPR/FPR\n",
    "    LR_Neg=FNR/TNR\n",
    "    DOR=LR_Pos/LR_Neg\n",
    "    F1_Score=1/((1/TPR)+(1/PPV)/2)\n",
    "    print('Specificity: ',TNR)\n",
    "    print('Sensitivity/Recall: ',TPR)\n",
    "    print('Accuracy: ',ACC)\n",
    "    print('Precision: ',PPV)\n",
    "    print('F1 Score: ',F1_Score)\n",
    "    \n",
    "    Confusion_Matrix=pd.DataFrame(np.array([True_Pos,False_Pos,PredPos,\n",
    "                           False_Neg,True_Neg,PredNeg,\n",
    "                           ObsPos,ObsNeg,Total_Obs]).reshape(3,3),\n",
    "                 index=[['Predicted','Predicted','Predicted'],['Cond. +','Cond. -','Total']],\n",
    "                 columns=[['Actual','Actual','Actual'],['Cond. +','Cond. -','Total']])\n",
    "\n",
    "    Output_Metrics=pd.DataFrame(np.array([TPR,FNR,FPR,TNR,PREV,PPV,FOR,ACC,FDR,NPV,LR_Pos,LR_Neg,DOR,\n",
    "                                          F1_Score]),\n",
    "                 index=['True positive rate (TPR)','False negative rate (FNR)',\n",
    "                        'False positive rate (FPR)','True negative rate (TNR)',\n",
    "                        'Prevalence','Precision (PPV)','False omission rate (FOR)',\n",
    "                        'Accuracy','False discovery rate (FDR)',\n",
    "                        'Negative predictive value (NPV)','Positive likelihood ratio (LR+)',\n",
    "                        'Negative likelihood ratio (LR−)','Diagnostic odds ratio (DOR)',\n",
    "                        'F1 score'],\n",
    "                        columns=['Metrics'])\n",
    "    return Confusion_Matrix,Output_Metrics"
   ]
  },
  {
   "cell_type": "code",
   "execution_count": 96,
   "metadata": {},
   "outputs": [
    {
     "name": "stdout",
     "output_type": "stream",
     "text": [
      "Observation of interest 'Actual':  18\n",
      "Total Observed Outcome of Interest in 'Predicted' cases:  20\n",
      "Specificity:  0.5151515151515151\n",
      "Sensitivity/Recall:  0.05970149253731343\n",
      "Accuracy:  0.21\n",
      "Precision:  0.05970149253731343\n",
      "F1 Score:  0.03980099502487562\n"
     ]
    }
   ],
   "source": [
    "ConfMatrix,OutMetrics=ConfusionMetrics(Actual['Actual'],Prediction['Prediction'],Interest)"
   ]
  },
  {
   "cell_type": "code",
   "execution_count": 97,
   "metadata": {},
   "outputs": [
    {
     "data": {
      "text/html": [
       "<div>\n",
       "<style scoped>\n",
       "    .dataframe tbody tr th:only-of-type {\n",
       "        vertical-align: middle;\n",
       "    }\n",
       "\n",
       "    .dataframe tbody tr th {\n",
       "        vertical-align: top;\n",
       "    }\n",
       "\n",
       "    .dataframe thead tr th {\n",
       "        text-align: left;\n",
       "    }\n",
       "</style>\n",
       "<table border=\"1\" class=\"dataframe\">\n",
       "  <thead>\n",
       "    <tr>\n",
       "      <th></th>\n",
       "      <th></th>\n",
       "      <th colspan=\"3\" halign=\"left\">Actual</th>\n",
       "    </tr>\n",
       "    <tr>\n",
       "      <th></th>\n",
       "      <th></th>\n",
       "      <th>Cond. +</th>\n",
       "      <th>Cond. -</th>\n",
       "      <th>Total</th>\n",
       "    </tr>\n",
       "  </thead>\n",
       "  <tbody>\n",
       "    <tr>\n",
       "      <th rowspan=\"3\" valign=\"top\">Predicted</th>\n",
       "      <th>Cond. +</th>\n",
       "      <td>4</td>\n",
       "      <td>16</td>\n",
       "      <td>20</td>\n",
       "    </tr>\n",
       "    <tr>\n",
       "      <th>Cond. -</th>\n",
       "      <td>63</td>\n",
       "      <td>17</td>\n",
       "      <td>80</td>\n",
       "    </tr>\n",
       "    <tr>\n",
       "      <th>Total</th>\n",
       "      <td>67</td>\n",
       "      <td>33</td>\n",
       "      <td>100</td>\n",
       "    </tr>\n",
       "  </tbody>\n",
       "</table>\n",
       "</div>"
      ],
      "text/plain": [
       "                   Actual              \n",
       "                  Cond. + Cond. - Total\n",
       "Predicted Cond. +       4      16    20\n",
       "          Cond. -      63      17    80\n",
       "          Total        67      33   100"
      ]
     },
     "execution_count": 97,
     "metadata": {},
     "output_type": "execute_result"
    }
   ],
   "source": [
    "ConfMatrix"
   ]
  },
  {
   "cell_type": "code",
   "execution_count": 98,
   "metadata": {},
   "outputs": [
    {
     "data": {
      "text/html": [
       "<div>\n",
       "<style scoped>\n",
       "    .dataframe tbody tr th:only-of-type {\n",
       "        vertical-align: middle;\n",
       "    }\n",
       "\n",
       "    .dataframe tbody tr th {\n",
       "        vertical-align: top;\n",
       "    }\n",
       "\n",
       "    .dataframe thead th {\n",
       "        text-align: right;\n",
       "    }\n",
       "</style>\n",
       "<table border=\"1\" class=\"dataframe\">\n",
       "  <thead>\n",
       "    <tr style=\"text-align: right;\">\n",
       "      <th></th>\n",
       "      <th>Metrics</th>\n",
       "    </tr>\n",
       "  </thead>\n",
       "  <tbody>\n",
       "    <tr>\n",
       "      <th>True positive rate (TPR)</th>\n",
       "      <td>0.059701</td>\n",
       "    </tr>\n",
       "    <tr>\n",
       "      <th>False negative rate (FNR)</th>\n",
       "      <td>0.940299</td>\n",
       "    </tr>\n",
       "    <tr>\n",
       "      <th>False positive rate (FPR)</th>\n",
       "      <td>0.484848</td>\n",
       "    </tr>\n",
       "    <tr>\n",
       "      <th>True negative rate (TNR)</th>\n",
       "      <td>0.515152</td>\n",
       "    </tr>\n",
       "    <tr>\n",
       "      <th>Prevalence</th>\n",
       "      <td>0.670000</td>\n",
       "    </tr>\n",
       "    <tr>\n",
       "      <th>Precision (PPV)</th>\n",
       "      <td>0.059701</td>\n",
       "    </tr>\n",
       "    <tr>\n",
       "      <th>False omission rate (FOR)</th>\n",
       "      <td>0.787500</td>\n",
       "    </tr>\n",
       "    <tr>\n",
       "      <th>Accuracy</th>\n",
       "      <td>0.210000</td>\n",
       "    </tr>\n",
       "    <tr>\n",
       "      <th>False discovery rate (FDR)</th>\n",
       "      <td>0.238806</td>\n",
       "    </tr>\n",
       "    <tr>\n",
       "      <th>Negative predictive value (NPV)</th>\n",
       "      <td>0.212500</td>\n",
       "    </tr>\n",
       "    <tr>\n",
       "      <th>Positive likelihood ratio (LR+)</th>\n",
       "      <td>0.123134</td>\n",
       "    </tr>\n",
       "    <tr>\n",
       "      <th>Negative likelihood ratio (LR−)</th>\n",
       "      <td>1.825285</td>\n",
       "    </tr>\n",
       "    <tr>\n",
       "      <th>Diagnostic odds ratio (DOR)</th>\n",
       "      <td>0.067460</td>\n",
       "    </tr>\n",
       "    <tr>\n",
       "      <th>F1 score</th>\n",
       "      <td>0.039801</td>\n",
       "    </tr>\n",
       "  </tbody>\n",
       "</table>\n",
       "</div>"
      ],
      "text/plain": [
       "                                  Metrics\n",
       "True positive rate (TPR)         0.059701\n",
       "False negative rate (FNR)        0.940299\n",
       "False positive rate (FPR)        0.484848\n",
       "True negative rate (TNR)         0.515152\n",
       "Prevalence                       0.670000\n",
       "Precision (PPV)                  0.059701\n",
       "False omission rate (FOR)        0.787500\n",
       "Accuracy                         0.210000\n",
       "False discovery rate (FDR)       0.238806\n",
       "Negative predictive value (NPV)  0.212500\n",
       "Positive likelihood ratio (LR+)  0.123134\n",
       "Negative likelihood ratio (LR−)  1.825285\n",
       "Diagnostic odds ratio (DOR)      0.067460\n",
       "F1 score                         0.039801"
      ]
     },
     "execution_count": 98,
     "metadata": {},
     "output_type": "execute_result"
    }
   ],
   "source": [
    "OutMetrics"
   ]
  },
  {
   "cell_type": "code",
   "execution_count": null,
   "metadata": {},
   "outputs": [],
   "source": []
  }
 ],
 "metadata": {
  "kernelspec": {
   "display_name": "Python 3",
   "language": "python",
   "name": "python3"
  },
  "language_info": {
   "codemirror_mode": {
    "name": "ipython",
    "version": 3
   },
   "file_extension": ".py",
   "mimetype": "text/x-python",
   "name": "python",
   "nbconvert_exporter": "python",
   "pygments_lexer": "ipython3",
   "version": "3.6.5"
  }
 },
 "nbformat": 4,
 "nbformat_minor": 2
}
